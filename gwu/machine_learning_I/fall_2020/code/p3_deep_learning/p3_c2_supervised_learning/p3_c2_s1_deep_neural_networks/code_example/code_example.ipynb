{
 "cells": [
  {
   "cell_type": "markdown",
   "metadata": {
    "id": "cMSn67px4ANI",
    "toc": true
   },
   "source": [
    "<h1>Table of Contents<span class=\"tocSkip\"></span></h1>\n",
    "<div class=\"toc\"><ul class=\"toc-item\"><li><span><a href=\"#Overview\" data-toc-modified-id=\"Overview-1\"><span class=\"toc-item-num\">1&nbsp;&nbsp;</span>Overview</a></span></li><li><span><a href=\"#Notebook-Configuration\" data-toc-modified-id=\"Notebook-Configuration-2\"><span class=\"toc-item-num\">2&nbsp;&nbsp;</span>Notebook Configuration</a></span><ul class=\"toc-item\"><li><span><a href=\"#Google-drive\" data-toc-modified-id=\"Google-drive-2.1\"><span class=\"toc-item-num\">2.1&nbsp;&nbsp;</span>Google drive</a></span></li><li><span><a href=\"#Warning\" data-toc-modified-id=\"Warning-2.2\"><span class=\"toc-item-num\">2.2&nbsp;&nbsp;</span>Warning</a></span></li><li><span><a href=\"#Matplotlib\" data-toc-modified-id=\"Matplotlib-2.3\"><span class=\"toc-item-num\">2.3&nbsp;&nbsp;</span>Matplotlib</a></span></li><li><span><a href=\"#TensorFlow\" data-toc-modified-id=\"TensorFlow-2.4\"><span class=\"toc-item-num\">2.4&nbsp;&nbsp;</span>TensorFlow</a></span></li><li><span><a href=\"#Random-seed\" data-toc-modified-id=\"Random-seed-2.5\"><span class=\"toc-item-num\">2.5&nbsp;&nbsp;</span>Random seed</a></span></li></ul></li><li><span><a href=\"#Data-Preprocessing\" data-toc-modified-id=\"Data-Preprocessing-3\"><span class=\"toc-item-num\">3&nbsp;&nbsp;</span>Data Preprocessing</a></span><ul class=\"toc-item\"><li><span><a href=\"#Loading-the-data\" data-toc-modified-id=\"Loading-the-data-3.1\"><span class=\"toc-item-num\">3.1&nbsp;&nbsp;</span>Loading the data</a></span><ul class=\"toc-item\"><li><span><a href=\"#Creating-the-directory-for-the-data\" data-toc-modified-id=\"Creating-the-directory-for-the-data-3.1.1\"><span class=\"toc-item-num\">3.1.1&nbsp;&nbsp;</span>Creating the directory for the data</a></span></li><li><span><a href=\"#Downloading-the-data-to-the-directory\" data-toc-modified-id=\"Downloading-the-data-to-the-directory-3.1.2\"><span class=\"toc-item-num\">3.1.2&nbsp;&nbsp;</span>Downloading the data to the directory</a></span></li></ul></li><li><span><a href=\"#Getting-the-name-of-the-target\" data-toc-modified-id=\"Getting-the-name-of-the-target-3.2\"><span class=\"toc-item-num\">3.2&nbsp;&nbsp;</span>Getting the name of the target</a></span></li><li><span><a href=\"#Getting-the-info\" data-toc-modified-id=\"Getting-the-info-3.3\"><span class=\"toc-item-num\">3.3&nbsp;&nbsp;</span>Getting the info</a></span></li><li><span><a href=\"#Getting-the-training,-validation-and-test-data\" data-toc-modified-id=\"Getting-the-training,-validation-and-test-data-3.4\"><span class=\"toc-item-num\">3.4&nbsp;&nbsp;</span>Getting the training, validation and test data</a></span></li><li><span><a href=\"#Normalizing-the-data\" data-toc-modified-id=\"Normalizing-the-data-3.5\"><span class=\"toc-item-num\">3.5&nbsp;&nbsp;</span>Normalizing the data</a></span></li><li><span><a href=\"#Shuffling,-batching-and-prefetching-the-data\" data-toc-modified-id=\"Shuffling,-batching-and-prefetching-the-data-3.6\"><span class=\"toc-item-num\">3.6&nbsp;&nbsp;</span>Shuffling, batching and prefetching the data</a></span></li></ul></li><li><span><a href=\"#Training-(Without-Callback)\" data-toc-modified-id=\"Training-(Without-Callback)-4\"><span class=\"toc-item-num\">4&nbsp;&nbsp;</span>Training (Without Callback)</a></span><ul class=\"toc-item\"><li><span><a href=\"#Building-the-model\" data-toc-modified-id=\"Building-the-model-4.1\"><span class=\"toc-item-num\">4.1&nbsp;&nbsp;</span>Building the model</a></span><ul class=\"toc-item\"><li><span><a href=\"#A-step-by-step-approach\" data-toc-modified-id=\"A-step-by-step-approach-4.1.1\"><span class=\"toc-item-num\">4.1.1&nbsp;&nbsp;</span>A step by step approach</a></span></li><li><span><a href=\"#A-one-step-approach\" data-toc-modified-id=\"A-one-step-approach-4.1.2\"><span class=\"toc-item-num\">4.1.2&nbsp;&nbsp;</span>A one step approach</a></span></li><li><span><a href=\"#The-model-summary\" data-toc-modified-id=\"The-model-summary-4.1.3\"><span class=\"toc-item-num\">4.1.3&nbsp;&nbsp;</span>The model summary</a></span></li></ul></li><li><span><a href=\"#Compiling-the-model\" data-toc-modified-id=\"Compiling-the-model-4.2\"><span class=\"toc-item-num\">4.2&nbsp;&nbsp;</span>Compiling the model</a></span></li><li><span><a href=\"#Training-the-model\" data-toc-modified-id=\"Training-the-model-4.3\"><span class=\"toc-item-num\">4.3&nbsp;&nbsp;</span>Training the model</a></span></li><li><span><a href=\"#Plotting-the-learning-curve\" data-toc-modified-id=\"Plotting-the-learning-curve-4.4\"><span class=\"toc-item-num\">4.4&nbsp;&nbsp;</span>Plotting the learning curve</a></span><ul class=\"toc-item\"><li><span><a href=\"#Creating-the-directory-for-the-figure\" data-toc-modified-id=\"Creating-the-directory-for-the-figure-4.4.1\"><span class=\"toc-item-num\">4.4.1&nbsp;&nbsp;</span>Creating the directory for the figure</a></span></li><li><span><a href=\"#Plotting-the-figure\" data-toc-modified-id=\"Plotting-the-figure-4.4.2\"><span class=\"toc-item-num\">4.4.2&nbsp;&nbsp;</span>Plotting the figure</a></span></li></ul></li><li><span><a href=\"#Continuing-training-the-model\" data-toc-modified-id=\"Continuing-training-the-model-4.5\"><span class=\"toc-item-num\">4.5&nbsp;&nbsp;</span>Continuing training the model</a></span></li><li><span><a href=\"#Plotting-the-learning-curve\" data-toc-modified-id=\"Plotting-the-learning-curve-4.6\"><span class=\"toc-item-num\">4.6&nbsp;&nbsp;</span>Plotting the learning curve</a></span></li></ul></li><li><span><a href=\"#Training-(With-ModelCheckpoint-callback-to-Save-the-Model)\" data-toc-modified-id=\"Training-(With-ModelCheckpoint-callback-to-Save-the-Model)-5\"><span class=\"toc-item-num\">5&nbsp;&nbsp;</span>Training (With ModelCheckpoint callback to Save the Model)</a></span><ul class=\"toc-item\"><li><span><a href=\"#Creating-the-directory-for-the-saved-model\" data-toc-modified-id=\"Creating-the-directory-for-the-saved-model-5.1\"><span class=\"toc-item-num\">5.1&nbsp;&nbsp;</span>Creating the directory for the saved model</a></span></li><li><span><a href=\"#Building-the-model\" data-toc-modified-id=\"Building-the-model-5.2\"><span class=\"toc-item-num\">5.2&nbsp;&nbsp;</span>Building the model</a></span></li><li><span><a href=\"#Compiling-the-model\" data-toc-modified-id=\"Compiling-the-model-5.3\"><span class=\"toc-item-num\">5.3&nbsp;&nbsp;</span>Compiling the model</a></span></li><li><span><a href=\"#Training-the-model\" data-toc-modified-id=\"Training-the-model-5.4\"><span class=\"toc-item-num\">5.4&nbsp;&nbsp;</span>Training the model</a></span><ul class=\"toc-item\"><li><span><a href=\"#Setting-callbacks\" data-toc-modified-id=\"Setting-callbacks-5.4.1\"><span class=\"toc-item-num\">5.4.1&nbsp;&nbsp;</span>Setting callbacks</a></span></li><li><span><a href=\"#Training,-evaluating-and-saving-the-model\" data-toc-modified-id=\"Training,-evaluating-and-saving-the-model-5.4.2\"><span class=\"toc-item-num\">5.4.2&nbsp;&nbsp;</span>Training, evaluating and saving the model</a></span></li></ul></li><li><span><a href=\"#Plotting-the-learning-curve\" data-toc-modified-id=\"Plotting-the-learning-curve-5.5\"><span class=\"toc-item-num\">5.5&nbsp;&nbsp;</span>Plotting the learning curve</a></span></li><li><span><a href=\"#Loading-the-saved-model\" data-toc-modified-id=\"Loading-the-saved-model-5.6\"><span class=\"toc-item-num\">5.6&nbsp;&nbsp;</span>Loading the saved model</a></span></li><li><span><a href=\"#Continuing-training-the-model\" data-toc-modified-id=\"Continuing-training-the-model-5.7\"><span class=\"toc-item-num\">5.7&nbsp;&nbsp;</span>Continuing training the model</a></span></li><li><span><a href=\"#Plotting-the-learning-curve\" data-toc-modified-id=\"Plotting-the-learning-curve-5.8\"><span class=\"toc-item-num\">5.8&nbsp;&nbsp;</span>Plotting the learning curve</a></span></li></ul></li><li><span><a href=\"#Training-(With-ModelCheckpoint-callback-to-Save-the-Best-Model)\" data-toc-modified-id=\"Training-(With-ModelCheckpoint-callback-to-Save-the-Best-Model)-6\"><span class=\"toc-item-num\">6&nbsp;&nbsp;</span>Training (With ModelCheckpoint callback to Save the Best Model)</a></span><ul class=\"toc-item\"><li><span><a href=\"#Building-the-model\" data-toc-modified-id=\"Building-the-model-6.1\"><span class=\"toc-item-num\">6.1&nbsp;&nbsp;</span>Building the model</a></span></li><li><span><a href=\"#Compiling-the-model\" data-toc-modified-id=\"Compiling-the-model-6.2\"><span class=\"toc-item-num\">6.2&nbsp;&nbsp;</span>Compiling the model</a></span></li><li><span><a href=\"#Training-the-model\" data-toc-modified-id=\"Training-the-model-6.3\"><span class=\"toc-item-num\">6.3&nbsp;&nbsp;</span>Training the model</a></span><ul class=\"toc-item\"><li><span><a href=\"#Setting-callbacks\" data-toc-modified-id=\"Setting-callbacks-6.3.1\"><span class=\"toc-item-num\">6.3.1&nbsp;&nbsp;</span>Setting callbacks</a></span></li><li><span><a href=\"#Training,-evaluating-and-saving-the-best-model\" data-toc-modified-id=\"Training,-evaluating-and-saving-the-best-model-6.3.2\"><span class=\"toc-item-num\">6.3.2&nbsp;&nbsp;</span>Training, evaluating and saving the best model</a></span></li></ul></li><li><span><a href=\"#Plotting-the-learning-curve\" data-toc-modified-id=\"Plotting-the-learning-curve-6.4\"><span class=\"toc-item-num\">6.4&nbsp;&nbsp;</span>Plotting the learning curve</a></span></li></ul></li><li><span><a href=\"#Training-(With-ModelCheckpoint-and-EarlyStopping)\" data-toc-modified-id=\"Training-(With-ModelCheckpoint-and-EarlyStopping)-7\"><span class=\"toc-item-num\">7&nbsp;&nbsp;</span>Training (With ModelCheckpoint and EarlyStopping)</a></span><ul class=\"toc-item\"><li><span><a href=\"#Building-the-model\" data-toc-modified-id=\"Building-the-model-7.1\"><span class=\"toc-item-num\">7.1&nbsp;&nbsp;</span>Building the model</a></span></li><li><span><a href=\"#Compiling-the-model\" data-toc-modified-id=\"Compiling-the-model-7.2\"><span class=\"toc-item-num\">7.2&nbsp;&nbsp;</span>Compiling the model</a></span></li><li><span><a href=\"#Training-the-model\" data-toc-modified-id=\"Training-the-model-7.3\"><span class=\"toc-item-num\">7.3&nbsp;&nbsp;</span>Training the model</a></span><ul class=\"toc-item\"><li><span><a href=\"#Setting-callbacks\" data-toc-modified-id=\"Setting-callbacks-7.3.1\"><span class=\"toc-item-num\">7.3.1&nbsp;&nbsp;</span>Setting callbacks</a></span></li><li><span><a href=\"#Training,-evaluating-and-saving-the-best-model\" data-toc-modified-id=\"Training,-evaluating-and-saving-the-best-model-7.3.2\"><span class=\"toc-item-num\">7.3.2&nbsp;&nbsp;</span>Training, evaluating and saving the best model</a></span></li></ul></li><li><span><a href=\"#Plotting-the-learning-curve\" data-toc-modified-id=\"Plotting-the-learning-curve-7.4\"><span class=\"toc-item-num\">7.4&nbsp;&nbsp;</span>Plotting the learning curve</a></span></li></ul></li><li><span><a href=\"#Testing-the-Best-Model\" data-toc-modified-id=\"Testing-the-Best-Model-8\"><span class=\"toc-item-num\">8&nbsp;&nbsp;</span>Testing the Best Model</a></span><ul class=\"toc-item\"><li><span><a href=\"#Loading-the-saved-model\" data-toc-modified-id=\"Loading-the-saved-model-8.1\"><span class=\"toc-item-num\">8.1&nbsp;&nbsp;</span>Loading the saved model</a></span></li><li><span><a href=\"#Evaluating-the-model\" data-toc-modified-id=\"Evaluating-the-model-8.2\"><span class=\"toc-item-num\">8.2&nbsp;&nbsp;</span>Evaluating the model</a></span></li></ul></li></ul></div>"
   ]
  },
  {
   "cell_type": "markdown",
   "metadata": {
    "id": "42yc1zUrzlEh"
   },
   "source": [
    "<b>\n",
    "<p>\n",
    "<center>\n",
    "<font size=\"5\">\n",
    "Popular Machine Learning Methods: Idea, Practice and Math\n",
    "</font>\n",
    "</center>\n",
    "</p>\n",
    "\n",
    "<p>\n",
    "<center>\n",
    "<font size=\"4\">\n",
    "Part 3, Chapter 2, Section 1: Deep Neural Networks\n",
    "</font>\n",
    "</center>\n",
    "</p>\n",
    "    \n",
    "<p>\n",
    "<center>\n",
    "<font size=\"4\">\n",
    "Code Example: Fashion-MNIST Dataset\n",
    "</font>\n",
    "</center>\n",
    "</p>\n",
    "\n",
    "<p>\n",
    "<center>\n",
    "<font size=\"3\">\n",
    "Data Science, Columbian College of Arts & Sciences, George Washington University\n",
    "</font>\n",
    "</center>\n",
    "</p>\n",
    "\n",
    "<p>\n",
    "<center>\n",
    "<font size=\"3\">\n",
    "Yuxiao Huang\n",
    "</font>\n",
    "</center>\n",
    "</p>\n",
    "</b>"
   ]
  },
  {
   "cell_type": "markdown",
   "metadata": {
    "id": "rT2SKHw2zlEi"
   },
   "source": [
    "# Overview"
   ]
  },
  {
   "cell_type": "markdown",
   "metadata": {
    "id": "asZWLrJKzlEj"
   },
   "source": [
    "- This notebook includes the code example for Deep Neural Networks (Part 3, Chapter 2, Section 1).\n",
    "- See the accompanied slides in our [github repository](https://github.com/yuxiaohuang/teaching/tree/master/gwu/machine_learning_I/fall_2020/slides/p3_deep_learning/p3_c2_supervised_learning/p3_c2_s1_deep_neural_networks)."
   ]
  },
  {
   "cell_type": "markdown",
   "metadata": {
    "id": "WJ-IbZqAgILJ"
   },
   "source": [
    "# Notebook Configuration"
   ]
  },
  {
   "cell_type": "markdown",
   "metadata": {
    "id": "H3yB94KtgMHu"
   },
   "source": [
    "## Google drive"
   ]
  },
  {
   "cell_type": "code",
   "execution_count": 1,
   "metadata": {
    "colab": {
     "base_uri": "https://localhost:8080/",
     "height": 34
    },
    "executionInfo": {
     "elapsed": 18088,
     "status": "ok",
     "timestamp": 1603674637911,
     "user": {
      "displayName": "Huang Yuxiao",
      "photoUrl": "",
      "userId": "05167076769245149404"
     },
     "user_tz": 240
    },
    "id": "jWmYBTOwgNs-",
    "outputId": "559d563e-d1c3-4ad8-a2e6-74bcd3f031c4",
    "scrolled": true
   },
   "outputs": [
    {
     "name": "stdout",
     "output_type": "stream",
     "text": [
      "Mounted at /content/drive\n"
     ]
    }
   ],
   "source": [
    "from google.colab import drive\n",
    "import sys\n",
    "\n",
    "# Mount Google Drive\n",
    "drive.mount('/content/drive')\n",
    "\n",
    "# Get the absolute path of the current folder\n",
    "abspath_curr = '/content/drive/My Drive/Colab Notebooks/teaching/gwu/machine_learning_I/code/p3_deep_learning/p3_c2_supervised_learning/p3_c2_s1_deep_neural_networks/code_example/'\n",
    "\n",
    "# Get the absolute path of the deep utilities folder\n",
    "abspath_util_deep = '/content/drive/My Drive/Colab Notebooks/teaching/gwu/machine_learning_I/code/utilities/p3_deep_learning/'"
   ]
  },
  {
   "cell_type": "markdown",
   "metadata": {
    "id": "bYZhU1Wqgmqx"
   },
   "source": [
    "## Warning"
   ]
  },
  {
   "cell_type": "code",
   "execution_count": 2,
   "metadata": {
    "executionInfo": {
     "elapsed": 18068,
     "status": "ok",
     "timestamp": 1603674637912,
     "user": {
      "displayName": "Huang Yuxiao",
      "photoUrl": "",
      "userId": "05167076769245149404"
     },
     "user_tz": 240
    },
    "id": "MUl4k83e4ANR"
   },
   "outputs": [],
   "source": [
    "import warnings\n",
    "\n",
    "# Ignore warnings\n",
    "warnings.filterwarnings('ignore')"
   ]
  },
  {
   "cell_type": "markdown",
   "metadata": {
    "id": "6WMODpPfgn2U"
   },
   "source": [
    "## Matplotlib"
   ]
  },
  {
   "cell_type": "code",
   "execution_count": 3,
   "metadata": {
    "executionInfo": {
     "elapsed": 18056,
     "status": "ok",
     "timestamp": 1603674637912,
     "user": {
      "displayName": "Huang Yuxiao",
      "photoUrl": "",
      "userId": "05167076769245149404"
     },
     "user_tz": 240
    },
    "id": "DBRVH9SB4ANb"
   },
   "outputs": [],
   "source": [
    "import matplotlib.pyplot as plt\n",
    "%matplotlib inline \n",
    "\n",
    "# Set matplotlib sizes\n",
    "plt.rc('font', size=20)\n",
    "plt.rc('axes', titlesize=20)\n",
    "plt.rc('axes', labelsize=20)\n",
    "plt.rc('xtick', labelsize=20)\n",
    "plt.rc('ytick', labelsize=20)\n",
    "plt.rc('legend', fontsize=20)\n",
    "plt.rc('figure', titlesize=20)"
   ]
  },
  {
   "cell_type": "markdown",
   "metadata": {
    "id": "n-wNDk5nZhhO"
   },
   "source": [
    "## TensorFlow"
   ]
  },
  {
   "cell_type": "code",
   "execution_count": 4,
   "metadata": {
    "executionInfo": {
     "elapsed": 19765,
     "status": "ok",
     "timestamp": 1603674639625,
     "user": {
      "displayName": "Huang Yuxiao",
      "photoUrl": "",
      "userId": "05167076769245149404"
     },
     "user_tz": 240
    },
    "id": "LjG43tEnZkfE"
   },
   "outputs": [],
   "source": [
    "# The magic below allows us to use tensorflow version 2.x\n",
    "%tensorflow_version 2.x \n",
    "import tensorflow as tf\n",
    "from tensorflow import keras"
   ]
  },
  {
   "cell_type": "markdown",
   "metadata": {
    "id": "40FN3UNfO2Z7"
   },
   "source": [
    "## Random seed"
   ]
  },
  {
   "cell_type": "code",
   "execution_count": 5,
   "metadata": {
    "executionInfo": {
     "elapsed": 19764,
     "status": "ok",
     "timestamp": 1603674639627,
     "user": {
      "displayName": "Huang Yuxiao",
      "photoUrl": "",
      "userId": "05167076769245149404"
     },
     "user_tz": 240
    },
    "id": "uSADk0hJP71d"
   },
   "outputs": [],
   "source": [
    "# The random seed\n",
    "random_seed = 42\n",
    "\n",
    "# Set random seed in tensorflow\n",
    "tf.random.set_seed(random_seed)\n",
    "\n",
    "# Set random seed in numpy\n",
    "import numpy as np\n",
    "np.random.seed(random_seed)"
   ]
  },
  {
   "cell_type": "markdown",
   "metadata": {
    "id": "1eOpQpPu4ANk"
   },
   "source": [
    "# Data Preprocessing"
   ]
  },
  {
   "cell_type": "code",
   "execution_count": 6,
   "metadata": {
    "colab": {
     "base_uri": "https://localhost:8080/",
     "height": 34
    },
    "executionInfo": {
     "elapsed": 20813,
     "status": "ok",
     "timestamp": 1603674640680,
     "user": {
      "displayName": "Huang Yuxiao",
      "photoUrl": "",
      "userId": "05167076769245149404"
     },
     "user_tz": 240
    },
    "id": "D-Mwc6MczlFD",
    "outputId": "46759e32-9d54-4da1-a383-81d7d18ad064"
   },
   "outputs": [
    {
     "name": "stdout",
     "output_type": "stream",
     "text": [
      "/content/drive/My Drive/Colab Notebooks/teaching/gwu/machine_learning_I/code/utilities/p3_deep_learning\n"
     ]
    }
   ],
   "source": [
    "# Change working directory to the absolute path of the deep utilities folder\n",
    "%cd $abspath_util_deep\n",
    "\n",
    "# Import the deep utitilities\n",
    "%run pmlm_utilities_deep.ipynb"
   ]
  },
  {
   "cell_type": "markdown",
   "metadata": {
    "id": "xnJAfR784ANl"
   },
   "source": [
    "## Loading the data"
   ]
  },
  {
   "cell_type": "markdown",
   "metadata": {
    "id": "LM_WKAmO4ANm"
   },
   "source": [
    "In this code example, we will work on the [Fashion-MNIST dataset](https://www.tensorflow.org/datasets/catalog/fashion_mnist)."
   ]
  },
  {
   "cell_type": "markdown",
   "metadata": {
    "id": "IEjvHlLB8X0z"
   },
   "source": [
    "### Creating the directory for the data"
   ]
  },
  {
   "cell_type": "code",
   "execution_count": 7,
   "metadata": {
    "executionInfo": {
     "elapsed": 21573,
     "status": "ok",
     "timestamp": 1603674641459,
     "user": {
      "displayName": "Huang Yuxiao",
      "photoUrl": "",
      "userId": "05167076769245149404"
     },
     "user_tz": 240
    },
    "id": "reijpcaf8UgO"
   },
   "outputs": [],
   "source": [
    "import os\n",
    "\n",
    "# Make directory\n",
    "directory = os.path.dirname(abspath_curr + '/data/')\n",
    "if not os.path.exists(directory):\n",
    "    os.makedirs(directory)"
   ]
  },
  {
   "cell_type": "markdown",
   "metadata": {
    "id": "-sDdbhok2i7C"
   },
   "source": [
    "### Downloading the data to the directory"
   ]
  },
  {
   "cell_type": "code",
   "execution_count": 8,
   "metadata": {
    "executionInfo": {
     "elapsed": 28222,
     "status": "ok",
     "timestamp": 1603674648120,
     "user": {
      "displayName": "Huang Yuxiao",
      "photoUrl": "",
      "userId": "05167076769245149404"
     },
     "user_tz": 240
    },
    "id": "6onKpDeL4ANn",
    "scrolled": true
   },
   "outputs": [],
   "source": [
    "import tensorflow_datasets as tfds\n",
    "\n",
    "# Get the name of the data\n",
    "data_name = 'fashion_mnist'\n",
    "\n",
    "# Load data\n",
    "data, info = tfds.load(name=data_name,\n",
    "                       data_dir=abspath_curr + '/data/',\n",
    "                       as_supervised=True,\n",
    "                       with_info=True)"
   ]
  },
  {
   "cell_type": "markdown",
   "metadata": {
    "id": "yvIqSuZUVBb8"
   },
   "source": [
    "## Getting the name of the target"
   ]
  },
  {
   "cell_type": "code",
   "execution_count": 9,
   "metadata": {
    "executionInfo": {
     "elapsed": 28220,
     "status": "ok",
     "timestamp": 1603674648122,
     "user": {
      "displayName": "Huang Yuxiao",
      "photoUrl": "",
      "userId": "05167076769245149404"
     },
     "user_tz": 240
    },
    "id": "AF5gbpOWVElL"
   },
   "outputs": [],
   "source": [
    "target = 'label'"
   ]
  },
  {
   "cell_type": "markdown",
   "metadata": {
    "id": "ugddFhUgVGWq"
   },
   "source": [
    "## Getting the info"
   ]
  },
  {
   "cell_type": "code",
   "execution_count": 10,
   "metadata": {
    "colab": {
     "base_uri": "https://localhost:8080/",
     "height": 51
    },
    "executionInfo": {
     "elapsed": 28216,
     "status": "ok",
     "timestamp": 1603674648122,
     "user": {
      "displayName": "Huang Yuxiao",
      "photoUrl": "",
      "userId": "05167076769245149404"
     },
     "user_tz": 240
    },
    "id": "A85zWEqMjP5E",
    "outputId": "96874980-001a-4584-c26b-ed7ba0eca4e7"
   },
   "outputs": [
    {
     "data": {
      "text/plain": [
       "{'test': <tfds.core.SplitInfo num_examples=10000>,\n",
       " 'train': <tfds.core.SplitInfo num_examples=60000>}"
      ]
     },
     "execution_count": 10,
     "metadata": {
      "tags": []
     },
     "output_type": "execute_result"
    }
   ],
   "source": [
    "# Print the splits\n",
    "info.splits"
   ]
  },
  {
   "cell_type": "code",
   "execution_count": 11,
   "metadata": {
    "colab": {
     "base_uri": "https://localhost:8080/",
     "height": 187
    },
    "executionInfo": {
     "elapsed": 28197,
     "status": "ok",
     "timestamp": 1603674648122,
     "user": {
      "displayName": "Huang Yuxiao",
      "photoUrl": "",
      "userId": "05167076769245149404"
     },
     "user_tz": 240
    },
    "id": "vsSHR38vjL1G",
    "outputId": "9ac76bce-9127-4a84-c748-9b192547e51c"
   },
   "outputs": [
    {
     "data": {
      "text/plain": [
       "['T-shirt/top',\n",
       " 'Trouser',\n",
       " 'Pullover',\n",
       " 'Dress',\n",
       " 'Coat',\n",
       " 'Sandal',\n",
       " 'Shirt',\n",
       " 'Sneaker',\n",
       " 'Bag',\n",
       " 'Ankle boot']"
      ]
     },
     "execution_count": 11,
     "metadata": {
      "tags": []
     },
     "output_type": "execute_result"
    }
   ],
   "source": [
    "# Get the classes\n",
    "classes = info.features['label'].names\n",
    "\n",
    "# Print the classes\n",
    "classes"
   ]
  },
  {
   "cell_type": "code",
   "execution_count": 12,
   "metadata": {
    "colab": {
     "base_uri": "https://localhost:8080/",
     "height": 34
    },
    "executionInfo": {
     "elapsed": 28179,
     "status": "ok",
     "timestamp": 1603674648123,
     "user": {
      "displayName": "Huang Yuxiao",
      "photoUrl": "",
      "userId": "05167076769245149404"
     },
     "user_tz": 240
    },
    "id": "hD0wa74kS_53",
    "outputId": "2b52db2a-adda-4deb-8cb5-f233a0aa1558"
   },
   "outputs": [
    {
     "data": {
      "text/plain": [
       "10"
      ]
     },
     "execution_count": 12,
     "metadata": {
      "tags": []
     },
     "output_type": "execute_result"
    }
   ],
   "source": [
    "# Get the number of classes\n",
    "n_classes = info.features['label'].num_classes\n",
    "\n",
    "# Print the number of classes\n",
    "info.features['label'].num_classes"
   ]
  },
  {
   "cell_type": "markdown",
   "metadata": {
    "id": "jGLoCbmO4AN9"
   },
   "source": [
    "## Getting the training, validation and test data"
   ]
  },
  {
   "cell_type": "code",
   "execution_count": 13,
   "metadata": {
    "executionInfo": {
     "elapsed": 28413,
     "status": "ok",
     "timestamp": 1603674648376,
     "user": {
      "displayName": "Huang Yuxiao",
      "photoUrl": "",
      "userId": "05167076769245149404"
     },
     "user_tz": 240
    },
    "id": "a2P4L1vS4AN_"
   },
   "outputs": [],
   "source": [
    "# Set the training, validation and test split\n",
    "split_train, split_valid, split_test = 'train[:70%]', 'train[70%:]', 'test'\n",
    "\n",
    "# Get the training data\n",
    "data_train = tfds.load(name=data_name,\n",
    "                       split=split_train,\n",
    "                       data_dir=abspath_curr + '/data/',\n",
    "                       as_supervised=True)\n",
    "\n",
    "# Get the validation data\n",
    "data_valid = tfds.load(name=data_name,\n",
    "                       split=split_valid,\n",
    "                       data_dir=abspath_curr + '/data/',\n",
    "                       as_supervised=True)\n",
    "\n",
    "# Get the test data\n",
    "data_test = tfds.load(name=data_name,\n",
    "                      split=split_test,\n",
    "                      data_dir=abspath_curr + '/data/',\n",
    "                      as_supervised=True)"
   ]
  },
  {
   "cell_type": "markdown",
   "metadata": {
    "id": "sZUSCJjyXxYE"
   },
   "source": [
    "## Normalizing the data"
   ]
  },
  {
   "cell_type": "code",
   "execution_count": 14,
   "metadata": {
    "executionInfo": {
     "elapsed": 28644,
     "status": "ok",
     "timestamp": 1603674648619,
     "user": {
      "displayName": "Huang Yuxiao",
      "photoUrl": "",
      "userId": "05167076769245149404"
     },
     "user_tz": 240
    },
    "id": "CfV6k87Ihz_u"
   },
   "outputs": [],
   "source": [
    "# Call preprocess\n",
    "# See the implementation in pmlm_utilities_deep.ipynb\n",
    "\n",
    "# Preprocess the training data\n",
    "data_train = data_train.map(preprocess)\n",
    "\n",
    "# Preprocess the validation data\n",
    "data_valid = data_valid.map(preprocess)\n",
    "\n",
    "# Preprocess the test data\n",
    "data_test = data_test.map(preprocess)"
   ]
  },
  {
   "cell_type": "markdown",
   "metadata": {
    "id": "e9oPQZ7limeD"
   },
   "source": [
    "## Shuffling, batching and prefetching the data"
   ]
  },
  {
   "cell_type": "code",
   "execution_count": 15,
   "metadata": {
    "executionInfo": {
     "elapsed": 28642,
     "status": "ok",
     "timestamp": 1603674648620,
     "user": {
      "displayName": "Huang Yuxiao",
      "photoUrl": "",
      "userId": "05167076769245149404"
     },
     "user_tz": 240
    },
    "id": "p95Fq3PFbaAL"
   },
   "outputs": [],
   "source": [
    "# Shuffling the training data\n",
    "data_train = data_train.shuffle(buffer_size=1000, seed=42)\n",
    "\n",
    "# Set the batch size\n",
    "batch_size = 16\n",
    "\n",
    "# Batch and prefetch the training data\n",
    "data_train = data_train.batch(batch_size).prefetch(1)\n",
    "\n",
    "# Batch and prefetch the validation data\n",
    "data_valid = data_valid.batch(batch_size).prefetch(1)\n",
    "\n",
    "# Batch and prefetch the test data\n",
    "data_test = data_test.batch(batch_size).prefetch(1)"
   ]
  },
  {
   "cell_type": "markdown",
   "metadata": {
    "id": "rMLlv9xK4AO9"
   },
   "source": [
    "# Training (Without Callback)"
   ]
  },
  {
   "cell_type": "markdown",
   "metadata": {
    "id": "tadOFNHsaCCj"
   },
   "source": [
    "## Building the model"
   ]
  },
  {
   "cell_type": "markdown",
   "metadata": {
    "id": "MrmKev8JaBXc"
   },
   "source": [
    " ### A step by step approach"
   ]
  },
  {
   "cell_type": "code",
   "execution_count": 16,
   "metadata": {
    "executionInfo": {
     "elapsed": 28638,
     "status": "ok",
     "timestamp": 1603674648620,
     "user": {
      "displayName": "Huang Yuxiao",
      "photoUrl": "",
      "userId": "05167076769245149404"
     },
     "user_tz": 240
    },
    "id": "lYq-8ZYia_dL"
   },
   "outputs": [],
   "source": [
    "# A sequential dnn\n",
    "model = keras.models.Sequential()\n",
    "\n",
    "# Add the input layer\n",
    "model.add(keras.layers.Flatten(input_shape=[28, 28]))\n",
    "\n",
    "# Add two hidden layers\n",
    "model.add(keras.layers.Dense(50, activation='relu'))\n",
    "model.add(keras.layers.Dense(50, activation='relu'))\n",
    "\n",
    "# Add the output layer\n",
    "model.add(keras.layers.Dense(10, activation='softmax'))"
   ]
  },
  {
   "cell_type": "markdown",
   "metadata": {
    "id": "wZ88p-q4bC_5"
   },
   "source": [
    "### A one step approach"
   ]
  },
  {
   "cell_type": "code",
   "execution_count": 17,
   "metadata": {
    "executionInfo": {
     "elapsed": 28635,
     "status": "ok",
     "timestamp": 1603674648621,
     "user": {
      "displayName": "Huang Yuxiao",
      "photoUrl": "",
      "userId": "05167076769245149404"
     },
     "user_tz": 240
    },
    "id": "aA-szs5vbE1o"
   },
   "outputs": [],
   "source": [
    "# A sequential dnn with two hidden layers\n",
    "model = keras.models.Sequential([keras.layers.Flatten(input_shape=[28, 28]),\n",
    "                                 keras.layers.Dense(50, activation='relu'),\n",
    "                                 keras.layers.Dense(50, activation='relu'),\n",
    "                                 keras.layers.Dense(10, activation='softmax')])"
   ]
  },
  {
   "cell_type": "markdown",
   "metadata": {
    "id": "WH5LCcCvbNsM"
   },
   "source": [
    "### The model summary"
   ]
  },
  {
   "cell_type": "code",
   "execution_count": 18,
   "metadata": {
    "colab": {
     "base_uri": "https://localhost:8080/",
     "height": 289
    },
    "executionInfo": {
     "elapsed": 28988,
     "status": "ok",
     "timestamp": 1603674648978,
     "user": {
      "displayName": "Huang Yuxiao",
      "photoUrl": "",
      "userId": "05167076769245149404"
     },
     "user_tz": 240
    },
    "id": "Nd37DOGLaAa6",
    "outputId": "610bde10-9bbc-4230-d979-b4c55e7200ed"
   },
   "outputs": [
    {
     "name": "stdout",
     "output_type": "stream",
     "text": [
      "Model: \"sequential_1\"\n",
      "_________________________________________________________________\n",
      "Layer (type)                 Output Shape              Param #   \n",
      "=================================================================\n",
      "flatten_1 (Flatten)          (None, 784)               0         \n",
      "_________________________________________________________________\n",
      "dense_3 (Dense)              (None, 50)                39250     \n",
      "_________________________________________________________________\n",
      "dense_4 (Dense)              (None, 50)                2550      \n",
      "_________________________________________________________________\n",
      "dense_5 (Dense)              (None, 10)                510       \n",
      "=================================================================\n",
      "Total params: 42,310\n",
      "Trainable params: 42,310\n",
      "Non-trainable params: 0\n",
      "_________________________________________________________________\n"
     ]
    }
   ],
   "source": [
    "model.summary()"
   ]
  },
  {
   "cell_type": "markdown",
   "metadata": {
    "id": "iGISytqvZ_C0"
   },
   "source": [
    "## Compiling the model"
   ]
  },
  {
   "cell_type": "code",
   "execution_count": 19,
   "metadata": {
    "executionInfo": {
     "elapsed": 28970,
     "status": "ok",
     "timestamp": 1603674648979,
     "user": {
      "displayName": "Huang Yuxiao",
      "photoUrl": "",
      "userId": "05167076769245149404"
     },
     "user_tz": 240
    },
    "id": "aaMjBK2kZ-WX"
   },
   "outputs": [],
   "source": [
    "# Compile the model\n",
    "model.compile(optimizer=keras.optimizers.SGD(),\n",
    "              loss='sparse_categorical_crossentropy',\n",
    "              metrics=['accuracy'])"
   ]
  },
  {
   "cell_type": "markdown",
   "metadata": {
    "id": "ba6nZQcO7Wjv"
   },
   "source": [
    "## Training the model"
   ]
  },
  {
   "cell_type": "code",
   "execution_count": 20,
   "metadata": {
    "colab": {
     "base_uri": "https://localhost:8080/",
     "height": 357
    },
    "executionInfo": {
     "elapsed": 187288,
     "status": "ok",
     "timestamp": 1603674807308,
     "user": {
      "displayName": "Huang Yuxiao",
      "photoUrl": "",
      "userId": "05167076769245149404"
     },
     "user_tz": 240
    },
    "id": "WPC7Obrq7ZDy",
    "outputId": "075d80d3-8ee5-432f-cb55-a4350e998d40"
   },
   "outputs": [
    {
     "name": "stdout",
     "output_type": "stream",
     "text": [
      "Epoch 1/10\n",
      "2625/2625 [==============================] - 15s 6ms/step - loss: 0.7334 - accuracy: 0.7470 - val_loss: 0.5248 - val_accuracy: 0.8157\n",
      "Epoch 2/10\n",
      "2625/2625 [==============================] - 15s 6ms/step - loss: 0.5012 - accuracy: 0.8227 - val_loss: 0.4748 - val_accuracy: 0.8344\n",
      "Epoch 3/10\n",
      "2625/2625 [==============================] - 15s 6ms/step - loss: 0.4515 - accuracy: 0.8407 - val_loss: 0.4361 - val_accuracy: 0.8469\n",
      "Epoch 4/10\n",
      "2625/2625 [==============================] - 15s 6ms/step - loss: 0.4231 - accuracy: 0.8510 - val_loss: 0.4169 - val_accuracy: 0.8526\n",
      "Epoch 5/10\n",
      "2625/2625 [==============================] - 15s 6ms/step - loss: 0.4001 - accuracy: 0.8591 - val_loss: 0.3936 - val_accuracy: 0.8580\n",
      "Epoch 6/10\n",
      "2625/2625 [==============================] - 15s 6ms/step - loss: 0.3845 - accuracy: 0.8646 - val_loss: 0.3806 - val_accuracy: 0.8637\n",
      "Epoch 7/10\n",
      "2625/2625 [==============================] - 16s 6ms/step - loss: 0.3712 - accuracy: 0.8680 - val_loss: 0.3793 - val_accuracy: 0.8608\n",
      "Epoch 8/10\n",
      "2625/2625 [==============================] - 16s 6ms/step - loss: 0.3606 - accuracy: 0.8710 - val_loss: 0.3734 - val_accuracy: 0.8663\n",
      "Epoch 9/10\n",
      "2625/2625 [==============================] - 16s 6ms/step - loss: 0.3489 - accuracy: 0.8751 - val_loss: 0.3642 - val_accuracy: 0.8682\n",
      "Epoch 10/10\n",
      "2625/2625 [==============================] - 16s 6ms/step - loss: 0.3410 - accuracy: 0.8774 - val_loss: 0.3563 - val_accuracy: 0.8717\n"
     ]
    }
   ],
   "source": [
    "# Train and evaluate the model\n",
    "history = model.fit(data_train,\n",
    "                    epochs=10,\n",
    "                    validation_data=data_valid)"
   ]
  },
  {
   "cell_type": "markdown",
   "metadata": {
    "id": "kNN6M5wH7vis"
   },
   "source": [
    "## Plotting the learning curve"
   ]
  },
  {
   "cell_type": "markdown",
   "metadata": {
    "id": "YXGVkBFl78Cr"
   },
   "source": [
    "### Creating the directory for the figure"
   ]
  },
  {
   "cell_type": "code",
   "execution_count": 21,
   "metadata": {
    "executionInfo": {
     "elapsed": 187270,
     "status": "ok",
     "timestamp": 1603674807309,
     "user": {
      "displayName": "Huang Yuxiao",
      "photoUrl": "",
      "userId": "05167076769245149404"
     },
     "user_tz": 240
    },
    "id": "96NjNOfw7xK3"
   },
   "outputs": [],
   "source": [
    "# Make directory\n",
    "directory = os.path.dirname(abspath_curr + '/result/figure/')\n",
    "if not os.path.exists(directory):\n",
    "    os.makedirs(directory)"
   ]
  },
  {
   "cell_type": "markdown",
   "metadata": {
    "id": "MAg4LlUjb1Uz"
   },
   "source": [
    "### Plotting the figure"
   ]
  },
  {
   "cell_type": "code",
   "execution_count": 22,
   "metadata": {
    "colab": {
     "base_uri": "https://localhost:8080/",
     "height": 348
    },
    "executionInfo": {
     "elapsed": 187599,
     "status": "ok",
     "timestamp": 1603674807649,
     "user": {
      "displayName": "Huang Yuxiao",
      "photoUrl": "",
      "userId": "05167076769245149404"
     },
     "user_tz": 240
    },
    "id": "-1AWpDxk8fqM",
    "outputId": "1c0ca070-db98-4cf3-82e8-df0808502ce4"
   },
   "outputs": [
    {
     "data": {
      "image/png": "[encoded data removed]",
      "text/plain": [
       "<Figure size 576x360 with 1 Axes>"
      ]
     },
     "metadata": {
      "needs_background": "light",
      "tags": []
     },
     "output_type": "display_data"
    }
   ],
   "source": [
    "import pandas as pd\n",
    "\n",
    "# Create a figure\n",
    "pd.DataFrame(history.history).plot(figsize=(8, 5))\n",
    "\n",
    "# Save and show the figure\n",
    "plt.tight_layout()\n",
    "plt.savefig(abspath_curr + '/result/figure/learning_curve_without_callback_10.pdf')\n",
    "plt.show()"
   ]
  },
  {
   "cell_type": "markdown",
   "metadata": {
    "id": "M-1Zj2vO9DyX"
   },
   "source": [
    "## Continuing training the model"
   ]
  },
  {
   "cell_type": "code",
   "execution_count": 23,
   "metadata": {
    "colab": {
     "base_uri": "https://localhost:8080/",
     "height": 187
    },
    "executionInfo": {
     "elapsed": 266491,
     "status": "ok",
     "timestamp": 1603674886561,
     "user": {
      "displayName": "Huang Yuxiao",
      "photoUrl": "",
      "userId": "05167076769245149404"
     },
     "user_tz": 240
    },
    "id": "snUBjSrq9RhL",
    "outputId": "6cf2c6b1-9c43-4e04-b501-7f144b46e7a6"
   },
   "outputs": [
    {
     "name": "stdout",
     "output_type": "stream",
     "text": [
      "Epoch 1/5\n",
      "2625/2625 [==============================] - 16s 6ms/step - loss: 0.3320 - accuracy: 0.8815 - val_loss: 0.3554 - val_accuracy: 0.8694\n",
      "Epoch 2/5\n",
      "2625/2625 [==============================] - 16s 6ms/step - loss: 0.3244 - accuracy: 0.8843 - val_loss: 0.3590 - val_accuracy: 0.8704\n",
      "Epoch 3/5\n",
      "2625/2625 [==============================] - 16s 6ms/step - loss: 0.3171 - accuracy: 0.8854 - val_loss: 0.3450 - val_accuracy: 0.8759\n",
      "Epoch 4/5\n",
      "2625/2625 [==============================] - 16s 6ms/step - loss: 0.3112 - accuracy: 0.8872 - val_loss: 0.3491 - val_accuracy: 0.8726\n",
      "Epoch 5/5\n",
      "2625/2625 [==============================] - 16s 6ms/step - loss: 0.3053 - accuracy: 0.8910 - val_loss: 0.3448 - val_accuracy: 0.8735\n"
     ]
    }
   ],
   "source": [
    "# Train and evaluate the model\n",
    "history = model.fit(data_train,\n",
    "                    epochs=5,\n",
    "                    validation_data=data_valid)"
   ]
  },
  {
   "cell_type": "markdown",
   "metadata": {
    "id": "FVHoHUQX9X6C"
   },
   "source": [
    "## Plotting the learning curve"
   ]
  },
  {
   "cell_type": "code",
   "execution_count": 24,
   "metadata": {
    "colab": {
     "base_uri": "https://localhost:8080/",
     "height": 348
    },
    "executionInfo": {
     "elapsed": 266661,
     "status": "ok",
     "timestamp": 1603674886751,
     "user": {
      "displayName": "Huang Yuxiao",
      "photoUrl": "",
      "userId": "05167076769245149404"
     },
     "user_tz": 240
    },
    "id": "RpO4aqUU9gZ2",
    "outputId": "6e2ab24f-1e4c-4667-e080-a277d7f3b311"
   },
   "outputs": [
    {
     "data": {
      "image/png": "[encoded data removed]",
      "text/plain": [
       "<Figure size 576x360 with 1 Axes>"
      ]
     },
     "metadata": {
      "needs_background": "light",
      "tags": []
     },
     "output_type": "display_data"
    }
   ],
   "source": [
    "# Create a figure\n",
    "pd.DataFrame(history.history).plot(figsize=(8, 5))\n",
    "\n",
    "# Save and show the figure\n",
    "plt.tight_layout()\n",
    "plt.savefig(abspath_curr + '/result/figure/learning_curve_without_callback_10_20.pdf')\n",
    "plt.show()"
   ]
  },
  {
   "cell_type": "markdown",
   "metadata": {
    "id": "YddKUU4Y9j7w"
   },
   "source": [
    "# Training (With ModelCheckpoint callback to Save the Model)"
   ]
  },
  {
   "cell_type": "markdown",
   "metadata": {
    "id": "Bgnj4lj3cUCt"
   },
   "source": [
    "## Creating the directory for the saved model"
   ]
  },
  {
   "cell_type": "code",
   "execution_count": 25,
   "metadata": {
    "executionInfo": {
     "elapsed": 266802,
     "status": "ok",
     "timestamp": 1603674886912,
     "user": {
      "displayName": "Huang Yuxiao",
      "photoUrl": "",
      "userId": "05167076769245149404"
     },
     "user_tz": 240
    },
    "id": "mL8IheVrcVWh"
   },
   "outputs": [],
   "source": [
    "# Make directory\n",
    "directory = os.path.dirname(abspath_curr + '/result/model/')\n",
    "if not os.path.exists(directory):\n",
    "    os.makedirs(directory)"
   ]
  },
  {
   "cell_type": "markdown",
   "metadata": {
    "id": "MZXkv8srb1IS"
   },
   "source": [
    "## Building the model"
   ]
  },
  {
   "cell_type": "code",
   "execution_count": 26,
   "metadata": {
    "colab": {
     "base_uri": "https://localhost:8080/",
     "height": 289
    },
    "executionInfo": {
     "elapsed": 266790,
     "status": "ok",
     "timestamp": 1603674886912,
     "user": {
      "displayName": "Huang Yuxiao",
      "photoUrl": "",
      "userId": "05167076769245149404"
     },
     "user_tz": 240
    },
    "id": "aIR5sQVsb5Yh",
    "outputId": "1ef4b045-4d98-4c87-8a57-ac10dd76d835"
   },
   "outputs": [
    {
     "name": "stdout",
     "output_type": "stream",
     "text": [
      "Model: \"sequential_2\"\n",
      "_________________________________________________________________\n",
      "Layer (type)                 Output Shape              Param #   \n",
      "=================================================================\n",
      "flatten_2 (Flatten)          (None, 784)               0         \n",
      "_________________________________________________________________\n",
      "dense_6 (Dense)              (None, 50)                39250     \n",
      "_________________________________________________________________\n",
      "dense_7 (Dense)              (None, 50)                2550      \n",
      "_________________________________________________________________\n",
      "dense_8 (Dense)              (None, 10)                510       \n",
      "=================================================================\n",
      "Total params: 42,310\n",
      "Trainable params: 42,310\n",
      "Non-trainable params: 0\n",
      "_________________________________________________________________\n"
     ]
    }
   ],
   "source": [
    "# A sequential dnn\n",
    "model = keras.models.Sequential()\n",
    "\n",
    "# Add the input layer\n",
    "model.add(keras.layers.Flatten(input_shape=[28, 28]))\n",
    "\n",
    "# Add two hidden layers\n",
    "model.add(keras.layers.Dense(50, activation='relu'))\n",
    "model.add(keras.layers.Dense(50, activation='relu'))\n",
    "\n",
    "# Add the output layer\n",
    "model.add(keras.layers.Dense(10, activation='softmax'))\n",
    "\n",
    "# The model summary\n",
    "model.summary()"
   ]
  },
  {
   "cell_type": "markdown",
   "metadata": {
    "id": "9u4FMgAsMcgN"
   },
   "source": [
    "## Compiling the model"
   ]
  },
  {
   "cell_type": "code",
   "execution_count": 27,
   "metadata": {
    "executionInfo": {
     "elapsed": 266771,
     "status": "ok",
     "timestamp": 1603674886913,
     "user": {
      "displayName": "Huang Yuxiao",
      "photoUrl": "",
      "userId": "05167076769245149404"
     },
     "user_tz": 240
    },
    "id": "R4oQfnVpMdo-"
   },
   "outputs": [],
   "source": [
    "# Compile the model\n",
    "model.compile(optimizer=keras.optimizers.SGD(),\n",
    "              loss='sparse_categorical_crossentropy',\n",
    "              metrics=['accuracy'])"
   ]
  },
  {
   "cell_type": "markdown",
   "metadata": {
    "id": "gLdyw9n_VzUb"
   },
   "source": [
    "## Training the model"
   ]
  },
  {
   "cell_type": "markdown",
   "metadata": {
    "id": "u9KTlbBT8EXs"
   },
   "source": [
    "### Setting callbacks"
   ]
  },
  {
   "cell_type": "code",
   "execution_count": 28,
   "metadata": {
    "executionInfo": {
     "elapsed": 266759,
     "status": "ok",
     "timestamp": 1603674886913,
     "user": {
      "displayName": "Huang Yuxiao",
      "photoUrl": "",
      "userId": "05167076769245149404"
     },
     "user_tz": 240
    },
    "id": "5_iUDJLP8K44"
   },
   "outputs": [],
   "source": [
    "# ModelCheckpoint callback\n",
    "model_checkpoint_cb = keras.callbacks.ModelCheckpoint(filepath=abspath_curr + '/result/model/model.h5',\n",
    "                                                      save_weights_only=True)"
   ]
  },
  {
   "cell_type": "markdown",
   "metadata": {
    "id": "3ylOeFwqb1U8"
   },
   "source": [
    "### Training, evaluating and saving the model"
   ]
  },
  {
   "cell_type": "code",
   "execution_count": 29,
   "metadata": {
    "colab": {
     "base_uri": "https://localhost:8080/",
     "height": 357
    },
    "executionInfo": {
     "elapsed": 426471,
     "status": "ok",
     "timestamp": 1603675046629,
     "user": {
      "displayName": "Huang Yuxiao",
      "photoUrl": "",
      "userId": "05167076769245149404"
     },
     "user_tz": 240
    },
    "id": "0lES5CBZV176",
    "outputId": "74cc9a9f-00fd-4b44-d8d8-1430a8b281d4"
   },
   "outputs": [
    {
     "name": "stdout",
     "output_type": "stream",
     "text": [
      "Epoch 1/10\n",
      "2625/2625 [==============================] - 16s 6ms/step - loss: 0.7345 - accuracy: 0.7448 - val_loss: 0.5493 - val_accuracy: 0.8036\n",
      "Epoch 2/10\n",
      "2625/2625 [==============================] - 16s 6ms/step - loss: 0.4959 - accuracy: 0.8258 - val_loss: 0.4610 - val_accuracy: 0.8386\n",
      "Epoch 3/10\n",
      "2625/2625 [==============================] - 16s 6ms/step - loss: 0.4488 - accuracy: 0.8417 - val_loss: 0.4547 - val_accuracy: 0.8348\n",
      "Epoch 4/10\n",
      "2625/2625 [==============================] - 16s 6ms/step - loss: 0.4212 - accuracy: 0.8507 - val_loss: 0.4229 - val_accuracy: 0.8495\n",
      "Epoch 5/10\n",
      "2625/2625 [==============================] - 16s 6ms/step - loss: 0.4027 - accuracy: 0.8581 - val_loss: 0.3968 - val_accuracy: 0.8582\n",
      "Epoch 6/10\n",
      "2625/2625 [==============================] - 15s 6ms/step - loss: 0.3860 - accuracy: 0.8630 - val_loss: 0.3895 - val_accuracy: 0.8594\n",
      "Epoch 7/10\n",
      "2625/2625 [==============================] - 15s 6ms/step - loss: 0.3732 - accuracy: 0.8677 - val_loss: 0.3819 - val_accuracy: 0.8629\n",
      "Epoch 8/10\n",
      "2625/2625 [==============================] - 16s 6ms/step - loss: 0.3614 - accuracy: 0.8715 - val_loss: 0.3898 - val_accuracy: 0.8602\n",
      "Epoch 9/10\n",
      "2625/2625 [==============================] - 16s 6ms/step - loss: 0.3514 - accuracy: 0.8745 - val_loss: 0.3900 - val_accuracy: 0.8643\n",
      "Epoch 10/10\n",
      "2625/2625 [==============================] - 15s 6ms/step - loss: 0.3438 - accuracy: 0.8772 - val_loss: 0.3735 - val_accuracy: 0.8654\n"
     ]
    }
   ],
   "source": [
    "history = model.fit(data_train,\n",
    "                    epochs=10,\n",
    "                    validation_data=data_valid,\n",
    "                    callbacks=[model_checkpoint_cb])"
   ]
  },
  {
   "cell_type": "markdown",
   "metadata": {
    "id": "naOELFqc6pSB"
   },
   "source": [
    "## Plotting the learning curve"
   ]
  },
  {
   "cell_type": "code",
   "execution_count": 30,
   "metadata": {
    "colab": {
     "base_uri": "https://localhost:8080/",
     "height": 348
    },
    "executionInfo": {
     "elapsed": 429554,
     "status": "ok",
     "timestamp": 1603675049733,
     "user": {
      "displayName": "Huang Yuxiao",
      "photoUrl": "",
      "userId": "05167076769245149404"
     },
     "user_tz": 240
    },
    "id": "ZucB_4TQ4APW",
    "outputId": "635c6c2e-2049-4ab1-adff-b1dd2329f40c"
   },
   "outputs": [
    {
     "data": {
      "image/png": "[encoded data removed]",
      "text/plain": [
       "<Figure size 576x360 with 1 Axes>"
      ]
     },
     "metadata": {
      "needs_background": "light",
      "tags": []
     },
     "output_type": "display_data"
    }
   ],
   "source": [
    "# Create a figure\n",
    "pd.DataFrame(history.history).plot(figsize=(8, 5))\n",
    "\n",
    "# Save and show the figure\n",
    "plt.tight_layout()\n",
    "plt.savefig(abspath_curr + '/result/figure/learning_curve_with_modelcheckpoint_save_10.pdf')\n",
    "plt.show()"
   ]
  },
  {
   "cell_type": "markdown",
   "metadata": {
    "id": "IzuVOyb4MDsO"
   },
   "source": [
    "## Loading the saved model"
   ]
  },
  {
   "cell_type": "code",
   "execution_count": 31,
   "metadata": {
    "executionInfo": {
     "elapsed": 429534,
     "status": "ok",
     "timestamp": 1603675049733,
     "user": {
      "displayName": "Huang Yuxiao",
      "photoUrl": "",
      "userId": "05167076769245149404"
     },
     "user_tz": 240
    },
    "id": "gG-RcICvMHSC"
   },
   "outputs": [],
   "source": [
    "# Load the saved model\n",
    "model.load_weights(filepath=abspath_curr + '/result/model/model.h5')"
   ]
  },
  {
   "cell_type": "markdown",
   "metadata": {
    "id": "9hZ_aQOvHoOd"
   },
   "source": [
    "## Continuing training the model"
   ]
  },
  {
   "cell_type": "code",
   "execution_count": 32,
   "metadata": {
    "colab": {
     "base_uri": "https://localhost:8080/",
     "height": 187
    },
    "executionInfo": {
     "elapsed": 508779,
     "status": "ok",
     "timestamp": 1603675128988,
     "user": {
      "displayName": "Huang Yuxiao",
      "photoUrl": "",
      "userId": "05167076769245149404"
     },
     "user_tz": 240
    },
    "id": "cfwdufi_Hq9K",
    "outputId": "04ccba2c-c4b8-435b-891b-5008214c7b70"
   },
   "outputs": [
    {
     "name": "stdout",
     "output_type": "stream",
     "text": [
      "Epoch 1/5\n",
      "2625/2625 [==============================] - 16s 6ms/step - loss: 0.3352 - accuracy: 0.8805 - val_loss: 0.3750 - val_accuracy: 0.8638\n",
      "Epoch 2/5\n",
      "2625/2625 [==============================] - 16s 6ms/step - loss: 0.3278 - accuracy: 0.8825 - val_loss: 0.3488 - val_accuracy: 0.8736\n",
      "Epoch 3/5\n",
      "2625/2625 [==============================] - 16s 6ms/step - loss: 0.3213 - accuracy: 0.8848 - val_loss: 0.3566 - val_accuracy: 0.8719\n",
      "Epoch 4/5\n",
      "2625/2625 [==============================] - 16s 6ms/step - loss: 0.3144 - accuracy: 0.8862 - val_loss: 0.3556 - val_accuracy: 0.8735\n",
      "Epoch 5/5\n",
      "2625/2625 [==============================] - 16s 6ms/step - loss: 0.3085 - accuracy: 0.8885 - val_loss: 0.3753 - val_accuracy: 0.8679\n"
     ]
    }
   ],
   "source": [
    "# Train, evaluate and save the model\n",
    "history = model.fit(data_train,\n",
    "                    epochs=5,\n",
    "                    validation_data=data_valid,\n",
    "                    callbacks=[model_checkpoint_cb])"
   ]
  },
  {
   "cell_type": "markdown",
   "metadata": {
    "id": "jooIV3Tr38rw"
   },
   "source": [
    "## Plotting the learning curve\n",
    "\n"
   ]
  },
  {
   "cell_type": "code",
   "execution_count": 33,
   "metadata": {
    "colab": {
     "base_uri": "https://localhost:8080/",
     "height": 348
    },
    "executionInfo": {
     "elapsed": 509240,
     "status": "ok",
     "timestamp": 1603675129468,
     "user": {
      "displayName": "Huang Yuxiao",
      "photoUrl": "",
      "userId": "05167076769245149404"
     },
     "user_tz": 240
    },
    "id": "ZdftIsbI3_nV",
    "outputId": "00db63f1-22fe-4121-ece5-a0e0fb7961a8"
   },
   "outputs": [
    {
     "data": {
      "image/png": "[encoded data removed]",
      "text/plain": [
       "<Figure size 576x360 with 1 Axes>"
      ]
     },
     "metadata": {
      "needs_background": "light",
      "tags": []
     },
     "output_type": "display_data"
    }
   ],
   "source": [
    "# Create a figure\n",
    "pd.DataFrame(history.history).plot(figsize=(8, 5))\n",
    "\n",
    "# Save and show the figure\n",
    "plt.tight_layout()\n",
    "plt.savefig(abspath_curr + '/result/figure/learning_curve_with_modelcheckpoint_save_10_20.pdf')\n",
    "plt.show()"
   ]
  },
  {
   "cell_type": "markdown",
   "metadata": {
    "id": "IWVJ3KwUub-j"
   },
   "source": [
    "# Training (With ModelCheckpoint callback to Save the Best Model)\n",
    "\n",
    "\n"
   ]
  },
  {
   "cell_type": "markdown",
   "metadata": {
    "id": "Cmzcn8FqcgmU"
   },
   "source": [
    "## Building the model"
   ]
  },
  {
   "cell_type": "code",
   "execution_count": 34,
   "metadata": {
    "colab": {
     "base_uri": "https://localhost:8080/",
     "height": 289
    },
    "executionInfo": {
     "elapsed": 509443,
     "status": "ok",
     "timestamp": 1603675129691,
     "user": {
      "displayName": "Huang Yuxiao",
      "photoUrl": "",
      "userId": "05167076769245149404"
     },
     "user_tz": 240
    },
    "id": "Ff-n6bJBcfwq",
    "outputId": "0f2dbf79-3e19-46c5-84c5-524cdd9b0a25"
   },
   "outputs": [
    {
     "name": "stdout",
     "output_type": "stream",
     "text": [
      "Model: \"sequential_3\"\n",
      "_________________________________________________________________\n",
      "Layer (type)                 Output Shape              Param #   \n",
      "=================================================================\n",
      "flatten_3 (Flatten)          (None, 784)               0         \n",
      "_________________________________________________________________\n",
      "dense_9 (Dense)              (None, 50)                39250     \n",
      "_________________________________________________________________\n",
      "dense_10 (Dense)             (None, 50)                2550      \n",
      "_________________________________________________________________\n",
      "dense_11 (Dense)             (None, 10)                510       \n",
      "=================================================================\n",
      "Total params: 42,310\n",
      "Trainable params: 42,310\n",
      "Non-trainable params: 0\n",
      "_________________________________________________________________\n"
     ]
    }
   ],
   "source": [
    "# A sequential dnn\n",
    "model = keras.models.Sequential()\n",
    "\n",
    "# Add the input layer\n",
    "model.add(keras.layers.Flatten(input_shape=[28, 28]))\n",
    "\n",
    "# Add two hidden layers\n",
    "model.add(keras.layers.Dense(50, activation='relu'))\n",
    "model.add(keras.layers.Dense(50, activation='relu'))\n",
    "\n",
    "# Add the output layer\n",
    "model.add(keras.layers.Dense(10, activation='softmax'))\n",
    "\n",
    "# The model summary\n",
    "model.summary()"
   ]
  },
  {
   "cell_type": "markdown",
   "metadata": {
    "id": "6sbntreiMnnE"
   },
   "source": [
    "## Compiling the model"
   ]
  },
  {
   "cell_type": "code",
   "execution_count": 35,
   "metadata": {
    "executionInfo": {
     "elapsed": 509425,
     "status": "ok",
     "timestamp": 1603675129692,
     "user": {
      "displayName": "Huang Yuxiao",
      "photoUrl": "",
      "userId": "05167076769245149404"
     },
     "user_tz": 240
    },
    "id": "pIQ7PZl9Mr-Y"
   },
   "outputs": [],
   "source": [
    "# Compile the model\n",
    "model.compile(optimizer=keras.optimizers.SGD(),\n",
    "              loss='sparse_categorical_crossentropy',\n",
    "              metrics=['accuracy'])"
   ]
  },
  {
   "cell_type": "markdown",
   "metadata": {
    "id": "Z8dQknUOIWID"
   },
   "source": [
    "## Training the model"
   ]
  },
  {
   "cell_type": "markdown",
   "metadata": {
    "id": "KcPj1Q3xb1VZ"
   },
   "source": [
    "### Setting callbacks"
   ]
  },
  {
   "cell_type": "code",
   "execution_count": 36,
   "metadata": {
    "executionInfo": {
     "elapsed": 509415,
     "status": "ok",
     "timestamp": 1603675129692,
     "user": {
      "displayName": "Huang Yuxiao",
      "photoUrl": "",
      "userId": "05167076769245149404"
     },
     "user_tz": 240
    },
    "id": "vMkIIsexb1VZ"
   },
   "outputs": [],
   "source": [
    "# ModelCheckpoint callback\n",
    "model_checkpoint_cb = keras.callbacks.ModelCheckpoint(filepath=abspath_curr + '/result/model/model.h5',\n",
    "                                                      save_best_only=True,\n",
    "                                                      save_weights_only=True)"
   ]
  },
  {
   "cell_type": "markdown",
   "metadata": {
    "id": "hFpjkd99b1Va"
   },
   "source": [
    "### Training, evaluating and saving the best model"
   ]
  },
  {
   "cell_type": "code",
   "execution_count": 37,
   "metadata": {
    "colab": {
     "base_uri": "https://localhost:8080/",
     "height": 697
    },
    "executionInfo": {
     "elapsed": 822740,
     "status": "ok",
     "timestamp": 1603675443021,
     "user": {
      "displayName": "Huang Yuxiao",
      "photoUrl": "",
      "userId": "05167076769245149404"
     },
     "user_tz": 240
    },
    "id": "a5vhwhdAIZyH",
    "outputId": "86f4a8ee-cca4-4e16-b4d8-7e6a4013132f"
   },
   "outputs": [
    {
     "name": "stdout",
     "output_type": "stream",
     "text": [
      "Epoch 1/20\n",
      "2625/2625 [==============================] - 16s 6ms/step - loss: 0.7301 - accuracy: 0.7523 - val_loss: 0.5334 - val_accuracy: 0.8126\n",
      "Epoch 2/20\n",
      "2625/2625 [==============================] - 15s 6ms/step - loss: 0.4872 - accuracy: 0.8279 - val_loss: 0.4519 - val_accuracy: 0.8428\n",
      "Epoch 3/20\n",
      "2625/2625 [==============================] - 15s 6ms/step - loss: 0.4426 - accuracy: 0.8438 - val_loss: 0.4291 - val_accuracy: 0.8476\n",
      "Epoch 4/20\n",
      "2625/2625 [==============================] - 16s 6ms/step - loss: 0.4165 - accuracy: 0.8528 - val_loss: 0.4253 - val_accuracy: 0.8483\n",
      "Epoch 5/20\n",
      "2625/2625 [==============================] - 16s 6ms/step - loss: 0.3934 - accuracy: 0.8612 - val_loss: 0.3921 - val_accuracy: 0.8616\n",
      "Epoch 6/20\n",
      "2625/2625 [==============================] - 16s 6ms/step - loss: 0.3802 - accuracy: 0.8662 - val_loss: 0.3863 - val_accuracy: 0.8611\n",
      "Epoch 7/20\n",
      "2625/2625 [==============================] - 15s 6ms/step - loss: 0.3666 - accuracy: 0.8694 - val_loss: 0.3771 - val_accuracy: 0.8664\n",
      "Epoch 8/20\n",
      "2625/2625 [==============================] - 15s 6ms/step - loss: 0.3550 - accuracy: 0.8733 - val_loss: 0.3721 - val_accuracy: 0.8642\n",
      "Epoch 9/20\n",
      "2625/2625 [==============================] - 16s 6ms/step - loss: 0.3457 - accuracy: 0.8765 - val_loss: 0.3645 - val_accuracy: 0.8692\n",
      "Epoch 10/20\n",
      "2625/2625 [==============================] - 16s 6ms/step - loss: 0.3366 - accuracy: 0.8797 - val_loss: 0.3555 - val_accuracy: 0.8741\n",
      "Epoch 11/20\n",
      "2625/2625 [==============================] - 15s 6ms/step - loss: 0.3304 - accuracy: 0.8821 - val_loss: 0.3640 - val_accuracy: 0.8688\n",
      "Epoch 12/20\n",
      "2625/2625 [==============================] - 15s 6ms/step - loss: 0.3228 - accuracy: 0.8825 - val_loss: 0.3726 - val_accuracy: 0.8647\n",
      "Epoch 13/20\n",
      "2625/2625 [==============================] - 15s 6ms/step - loss: 0.3168 - accuracy: 0.8876 - val_loss: 0.3475 - val_accuracy: 0.8738\n",
      "Epoch 14/20\n",
      "2625/2625 [==============================] - 15s 6ms/step - loss: 0.3106 - accuracy: 0.8880 - val_loss: 0.3492 - val_accuracy: 0.8744\n",
      "Epoch 15/20\n",
      "2625/2625 [==============================] - 15s 6ms/step - loss: 0.3043 - accuracy: 0.8914 - val_loss: 0.3661 - val_accuracy: 0.8697\n",
      "Epoch 16/20\n",
      "2625/2625 [==============================] - 15s 6ms/step - loss: 0.2994 - accuracy: 0.8925 - val_loss: 0.3903 - val_accuracy: 0.8624\n",
      "Epoch 17/20\n",
      "2625/2625 [==============================] - 16s 6ms/step - loss: 0.2945 - accuracy: 0.8939 - val_loss: 0.3412 - val_accuracy: 0.8760\n",
      "Epoch 18/20\n",
      "2625/2625 [==============================] - 16s 6ms/step - loss: 0.2906 - accuracy: 0.8957 - val_loss: 0.3370 - val_accuracy: 0.8796\n",
      "Epoch 19/20\n",
      "2625/2625 [==============================] - 15s 6ms/step - loss: 0.2860 - accuracy: 0.8969 - val_loss: 0.3596 - val_accuracy: 0.8711\n",
      "Epoch 20/20\n",
      "2625/2625 [==============================] - 15s 6ms/step - loss: 0.2807 - accuracy: 0.8975 - val_loss: 0.3610 - val_accuracy: 0.8672\n"
     ]
    }
   ],
   "source": [
    "# Train, evaluate and save the best model\n",
    "history = model.fit(data_train,\n",
    "                    epochs=20,\n",
    "                    validation_data=data_valid,\n",
    "                    callbacks=[model_checkpoint_cb])"
   ]
  },
  {
   "cell_type": "markdown",
   "metadata": {
    "id": "F_NuGQw-Idt6"
   },
   "source": [
    "## Plotting the learning curve"
   ]
  },
  {
   "cell_type": "code",
   "execution_count": 38,
   "metadata": {
    "colab": {
     "base_uri": "https://localhost:8080/",
     "height": 348
    },
    "executionInfo": {
     "elapsed": 823437,
     "status": "ok",
     "timestamp": 1603675443737,
     "user": {
      "displayName": "Huang Yuxiao",
      "photoUrl": "",
      "userId": "05167076769245149404"
     },
     "user_tz": 240
    },
    "id": "Z2fsZ8jOIgqD",
    "outputId": "e09b202e-e9c4-4e9f-ba53-5826489fdac4"
   },
   "outputs": [
    {
     "data": {
      "image/png": "[encoded data removed]",
      "text/plain": [
       "<Figure size 576x360 with 1 Axes>"
      ]
     },
     "metadata": {
      "needs_background": "light",
      "tags": []
     },
     "output_type": "display_data"
    }
   ],
   "source": [
    "# Create a figure\n",
    "pd.DataFrame(history.history).plot(figsize=(8, 5))\n",
    "\n",
    "# Save and show the figure\n",
    "plt.tight_layout()\n",
    "plt.savefig(abspath_curr + '/result/figure/learning_curve_with_modelcheckpoint_save_best.pdf')\n",
    "plt.show()"
   ]
  },
  {
   "cell_type": "markdown",
   "metadata": {
    "id": "wUW8TGCUNAn0"
   },
   "source": [
    "# Training (With ModelCheckpoint and EarlyStopping)"
   ]
  },
  {
   "cell_type": "markdown",
   "metadata": {
    "id": "X4gb9xducnlO"
   },
   "source": [
    "## Building the model"
   ]
  },
  {
   "cell_type": "code",
   "execution_count": 39,
   "metadata": {
    "colab": {
     "base_uri": "https://localhost:8080/",
     "height": 289
    },
    "executionInfo": {
     "elapsed": 823428,
     "status": "ok",
     "timestamp": 1603675443738,
     "user": {
      "displayName": "Huang Yuxiao",
      "photoUrl": "",
      "userId": "05167076769245149404"
     },
     "user_tz": 240
    },
    "id": "X1DlY50Wcm0B",
    "outputId": "83c668e7-f45d-434e-e371-e6ecc1f7140c"
   },
   "outputs": [
    {
     "name": "stdout",
     "output_type": "stream",
     "text": [
      "Model: \"sequential_4\"\n",
      "_________________________________________________________________\n",
      "Layer (type)                 Output Shape              Param #   \n",
      "=================================================================\n",
      "flatten_4 (Flatten)          (None, 784)               0         \n",
      "_________________________________________________________________\n",
      "dense_12 (Dense)             (None, 50)                39250     \n",
      "_________________________________________________________________\n",
      "dense_13 (Dense)             (None, 50)                2550      \n",
      "_________________________________________________________________\n",
      "dense_14 (Dense)             (None, 10)                510       \n",
      "=================================================================\n",
      "Total params: 42,310\n",
      "Trainable params: 42,310\n",
      "Non-trainable params: 0\n",
      "_________________________________________________________________\n"
     ]
    }
   ],
   "source": [
    "# A sequential dnn\n",
    "model = keras.models.Sequential()\n",
    "\n",
    "# Add the input layer\n",
    "model.add(keras.layers.Flatten(input_shape=[28, 28]))\n",
    "\n",
    "# Add two hidden layers\n",
    "model.add(keras.layers.Dense(50, activation='relu'))\n",
    "model.add(keras.layers.Dense(50, activation='relu'))\n",
    "\n",
    "# Add the output layer\n",
    "model.add(keras.layers.Dense(10, activation='softmax'))\n",
    "\n",
    "# The model summary\n",
    "model.summary()"
   ]
  },
  {
   "cell_type": "markdown",
   "metadata": {
    "id": "5l9DbmVzNQR7"
   },
   "source": [
    "## Compiling the model"
   ]
  },
  {
   "cell_type": "code",
   "execution_count": 40,
   "metadata": {
    "executionInfo": {
     "elapsed": 823426,
     "status": "ok",
     "timestamp": 1603675443739,
     "user": {
      "displayName": "Huang Yuxiao",
      "photoUrl": "",
      "userId": "05167076769245149404"
     },
     "user_tz": 240
    },
    "id": "_e7LoJ-KNRo4"
   },
   "outputs": [],
   "source": [
    "# Compile the model\n",
    "model.compile(optimizer=keras.optimizers.SGD(),\n",
    "              loss='sparse_categorical_crossentropy',\n",
    "              metrics=['accuracy'])"
   ]
  },
  {
   "cell_type": "markdown",
   "metadata": {
    "id": "p5GGitWVNj0m"
   },
   "source": [
    "## Training the model"
   ]
  },
  {
   "cell_type": "markdown",
   "metadata": {
    "id": "8b69RD7fNVDx"
   },
   "source": [
    "### Setting callbacks"
   ]
  },
  {
   "cell_type": "code",
   "execution_count": 41,
   "metadata": {
    "executionInfo": {
     "elapsed": 823422,
     "status": "ok",
     "timestamp": 1603675443739,
     "user": {
      "displayName": "Huang Yuxiao",
      "photoUrl": "",
      "userId": "05167076769245149404"
     },
     "user_tz": 240
    },
    "id": "hZEE71ajNWGb"
   },
   "outputs": [],
   "source": [
    "# ModelCheckpoint callback\n",
    "model_checkpoint_cb = keras.callbacks.ModelCheckpoint(filepath=abspath_curr + '/result/model/model.h5',\n",
    "                                                      save_best_only=True,\n",
    "                                                      save_weights_only=True)\n",
    "\n",
    "# EarlyStopping callback\n",
    "early_stopping_cb = keras.callbacks.EarlyStopping(patience=5,\n",
    "                                                  restore_best_weights=True)"
   ]
  },
  {
   "cell_type": "markdown",
   "metadata": {
    "id": "5LFhN5y-b1Vh"
   },
   "source": [
    "### Training, evaluating and saving the best model"
   ]
  },
  {
   "cell_type": "code",
   "execution_count": 42,
   "metadata": {
    "colab": {
     "base_uri": "https://localhost:8080/",
     "height": 697
    },
    "executionInfo": {
     "elapsed": 1132094,
     "status": "ok",
     "timestamp": 1603675752415,
     "user": {
      "displayName": "Huang Yuxiao",
      "photoUrl": "",
      "userId": "05167076769245149404"
     },
     "user_tz": 240
    },
    "id": "4ZS7h4WENqLt",
    "outputId": "2c7f3e9f-b7f8-4b28-b600-2d58ccd0da8d"
   },
   "outputs": [
    {
     "name": "stdout",
     "output_type": "stream",
     "text": [
      "Epoch 1/20\n",
      "2625/2625 [==============================] - 15s 6ms/step - loss: 0.7441 - accuracy: 0.7450 - val_loss: 0.5646 - val_accuracy: 0.7982\n",
      "Epoch 2/20\n",
      "2625/2625 [==============================] - 15s 6ms/step - loss: 0.5041 - accuracy: 0.8233 - val_loss: 0.4613 - val_accuracy: 0.8395\n",
      "Epoch 3/20\n",
      "2625/2625 [==============================] - 15s 6ms/step - loss: 0.4546 - accuracy: 0.8400 - val_loss: 0.4331 - val_accuracy: 0.8472\n",
      "Epoch 4/20\n",
      "2625/2625 [==============================] - 15s 6ms/step - loss: 0.4238 - accuracy: 0.8499 - val_loss: 0.4295 - val_accuracy: 0.8489\n",
      "Epoch 5/20\n",
      "2625/2625 [==============================] - 15s 6ms/step - loss: 0.4015 - accuracy: 0.8565 - val_loss: 0.4023 - val_accuracy: 0.8571\n",
      "Epoch 6/20\n",
      "2625/2625 [==============================] - 15s 6ms/step - loss: 0.3868 - accuracy: 0.8615 - val_loss: 0.3893 - val_accuracy: 0.8581\n",
      "Epoch 7/20\n",
      "2625/2625 [==============================] - 15s 6ms/step - loss: 0.3717 - accuracy: 0.8666 - val_loss: 0.3756 - val_accuracy: 0.8647\n",
      "Epoch 8/20\n",
      "2625/2625 [==============================] - 15s 6ms/step - loss: 0.3615 - accuracy: 0.8696 - val_loss: 0.3792 - val_accuracy: 0.8631\n",
      "Epoch 9/20\n",
      "2625/2625 [==============================] - 16s 6ms/step - loss: 0.3502 - accuracy: 0.8746 - val_loss: 0.3563 - val_accuracy: 0.8706\n",
      "Epoch 10/20\n",
      "2625/2625 [==============================] - 16s 6ms/step - loss: 0.3421 - accuracy: 0.8773 - val_loss: 0.3629 - val_accuracy: 0.8689\n",
      "Epoch 11/20\n",
      "2625/2625 [==============================] - 15s 6ms/step - loss: 0.3342 - accuracy: 0.8791 - val_loss: 0.3595 - val_accuracy: 0.8683\n",
      "Epoch 12/20\n",
      "2625/2625 [==============================] - 15s 6ms/step - loss: 0.3258 - accuracy: 0.8825 - val_loss: 0.3658 - val_accuracy: 0.8678\n",
      "Epoch 13/20\n",
      "2625/2625 [==============================] - 15s 6ms/step - loss: 0.3198 - accuracy: 0.8831 - val_loss: 0.3434 - val_accuracy: 0.8771\n",
      "Epoch 14/20\n",
      "2625/2625 [==============================] - 15s 6ms/step - loss: 0.3127 - accuracy: 0.8864 - val_loss: 0.3448 - val_accuracy: 0.8752\n",
      "Epoch 15/20\n",
      "2625/2625 [==============================] - 15s 6ms/step - loss: 0.3078 - accuracy: 0.8874 - val_loss: 0.3461 - val_accuracy: 0.8749\n",
      "Epoch 16/20\n",
      "2625/2625 [==============================] - 15s 6ms/step - loss: 0.3009 - accuracy: 0.8913 - val_loss: 0.3322 - val_accuracy: 0.8794\n",
      "Epoch 17/20\n",
      "2625/2625 [==============================] - 16s 6ms/step - loss: 0.2968 - accuracy: 0.8919 - val_loss: 0.3411 - val_accuracy: 0.8759\n",
      "Epoch 18/20\n",
      "2625/2625 [==============================] - 16s 6ms/step - loss: 0.2923 - accuracy: 0.8931 - val_loss: 0.3389 - val_accuracy: 0.8785\n",
      "Epoch 19/20\n",
      "2625/2625 [==============================] - 16s 6ms/step - loss: 0.2856 - accuracy: 0.8963 - val_loss: 0.3384 - val_accuracy: 0.8787\n",
      "Epoch 20/20\n",
      "2625/2625 [==============================] - 16s 6ms/step - loss: 0.2826 - accuracy: 0.8971 - val_loss: 0.3276 - val_accuracy: 0.8823\n"
     ]
    }
   ],
   "source": [
    "# Train, evaluate and save the best model\n",
    "history = model.fit(data_train,\n",
    "                    epochs=20,\n",
    "                    validation_data=data_valid,\n",
    "                    callbacks=[model_checkpoint_cb, early_stopping_cb])"
   ]
  },
  {
   "cell_type": "markdown",
   "metadata": {
    "id": "NJoCcgsIR-TE"
   },
   "source": [
    "## Plotting the learning curve"
   ]
  },
  {
   "cell_type": "code",
   "execution_count": 43,
   "metadata": {
    "colab": {
     "base_uri": "https://localhost:8080/",
     "height": 348
    },
    "executionInfo": {
     "elapsed": 1132661,
     "status": "ok",
     "timestamp": 1603675752985,
     "user": {
      "displayName": "Huang Yuxiao",
      "photoUrl": "",
      "userId": "05167076769245149404"
     },
     "user_tz": 240
    },
    "id": "Z9f7MA8xSA4f",
    "outputId": "221f0104-4993-4d44-9505-a65447414d2a"
   },
   "outputs": [
    {
     "data": {
      "image/png": "[encoded data removed]",
      "text/plain": [
       "<Figure size 576x360 with 1 Axes>"
      ]
     },
     "metadata": {
      "needs_background": "light",
      "tags": []
     },
     "output_type": "display_data"
    }
   ],
   "source": [
    "# Create a figure\n",
    "pd.DataFrame(history.history).plot(figsize=(8, 5))\n",
    "\n",
    "# Save and show the figure\n",
    "plt.tight_layout()\n",
    "plt.savefig(abspath_curr + '/result/figure/learning_curve_with_modelcheckpoint_earlystopping.pdf')\n",
    "plt.show()"
   ]
  },
  {
   "cell_type": "markdown",
   "metadata": {
    "id": "RkGivY_MA6m1"
   },
   "source": [
    "# Testing the Best Model"
   ]
  },
  {
   "cell_type": "markdown",
   "metadata": {
    "id": "pjg97rxBvTsD"
   },
   "source": [
    "## Loading the saved model"
   ]
  },
  {
   "cell_type": "code",
   "execution_count": 44,
   "metadata": {
    "executionInfo": {
     "elapsed": 1132658,
     "status": "ok",
     "timestamp": 1603675752986,
     "user": {
      "displayName": "Huang Yuxiao",
      "photoUrl": "",
      "userId": "05167076769245149404"
     },
     "user_tz": 240
    },
    "id": "vWOYFg8BvYI9"
   },
   "outputs": [],
   "source": [
    "# Load the saved model\n",
    "model.load_weights(filepath=abspath_curr + '/result/model/model.h5')"
   ]
  },
  {
   "cell_type": "markdown",
   "metadata": {
    "id": "YAfOtSI7wajL"
   },
   "source": [
    "## Evaluating the model"
   ]
  },
  {
   "cell_type": "code",
   "execution_count": 45,
   "metadata": {
    "colab": {
     "base_uri": "https://localhost:8080/",
     "height": 34
    },
    "executionInfo": {
     "elapsed": 1135297,
     "status": "ok",
     "timestamp": 1603675755629,
     "user": {
      "displayName": "Huang Yuxiao",
      "photoUrl": "",
      "userId": "05167076769245149404"
     },
     "user_tz": 240
    },
    "id": "aoJnAfYfYDjH",
    "outputId": "7a424cad-e8c8-4349-e981-97c96050eeca"
   },
   "outputs": [
    {
     "name": "stdout",
     "output_type": "stream",
     "text": [
      "625/625 [==============================] - 3s 4ms/step - loss: 0.3657 - accuracy: 0.8738\n"
     ]
    }
   ],
   "source": [
    "loss, accuracy = model.evaluate(data_test)"
   ]
  }
 ],
 "metadata": {
  "accelerator": "GPU",
  "colab": {
   "collapsed_sections": [],
   "name": "code_example.ipynb",
   "provenance": []
  },
  "kernelspec": {
   "display_name": "Python 3",
   "language": "python",
   "name": "python3"
  },
  "language_info": {
   "codemirror_mode": {
    "name": "ipython",
    "version": 3
   },
   "file_extension": ".py",
   "mimetype": "text/x-python",
   "name": "python",
   "nbconvert_exporter": "python",
   "pygments_lexer": "ipython3",
   "version": "3.7.6"
  },
  "toc": {
   "base_numbering": 1,
   "nav_menu": {},
   "number_sections": true,
   "sideBar": true,
   "skip_h1_title": false,
   "title_cell": "Table of Contents",
   "title_sidebar": "Contents",
   "toc_cell": true,
   "toc_position": {},
   "toc_section_display": true,
   "toc_window_display": false
  }
 },
 "nbformat": 4,
 "nbformat_minor": 1
}
